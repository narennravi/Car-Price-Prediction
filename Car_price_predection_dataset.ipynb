{
  "cells": [
    {
      "cell_type": "markdown",
      "metadata": {
        "id": "5IR4XPvnvFyc"
      },
      "source": [
        "# Assignment8"
      ]
    },
    {
      "cell_type": "code",
      "execution_count": 1,
      "metadata": {
        "collapsed": true,
        "id": "l8WRR3sFvFyg"
      },
      "outputs": [],
      "source": [
        "import pandas as pd\n",
        "import matplotlib.pyplot as plt\n",
        "import numpy as np\n",
        "from sklearn import linear_model\n",
        "import seaborn as sns"
      ]
    },
    {
      "cell_type": "markdown",
      "metadata": {
        "id": "uia8RGY0vFyj"
      },
      "source": [
        "# How Much is Your Car Worth?\n",
        "\n",
        "Data about the retail price of 2005 General Motors cars can be found in `car_data.csv`.\n",
        "\n",
        "The columns are:\n",
        "\n",
        "1. Price: suggested retail price of the used 2005 GM car in excellent condition.\n",
        "2. Mileage: number of miles the car has been driven\n",
        "3. Make: manufacturer of the car such as Saturn, Pontiac, and Chevrolet\n",
        "4. Model: specific models for each car manufacturer such as Ion, Vibe, Cavalier\n",
        "5. Trim (of car): specific type of car model such as SE Sedan 4D, Quad Coupe 2D          \n",
        "6. Type: body type such as sedan, coupe, etc.      \n",
        "7. Cylinder: number of cylinders in the engine        \n",
        "8. Liter: a more specific measure of engine size     \n",
        "9. Doors: number of doors           \n",
        "10. Cruise: indicator variable representing whether the car has cruise control (1 = cruise)\n",
        "11. Sound: indicator variable representing whether the car has upgraded speakers (1 = upgraded)\n",
        "12. Leather: indicator variable representing whether the car has leather seats (1 = leather)\n",
        "\n",
        "## Tasks, Part 1\n",
        "\n",
        "1. Find the linear regression equation for mileage vs price.\n",
        "2. Chart the original data and the equation on the chart.\n",
        "3. Find the equation's $R^2$ score (use the `.score` method) to determine whether the\n",
        "equation is a good fit for this data. (0.8 and greater is considered a strong correlation.)\n",
        "\n",
        "## Tasks, Part 2\n",
        "\n",
        "1. Use mileage, cylinders, liters, doors, cruise, sound, and leather to find the linear regression equation.\n",
        "2. Find the equation's $R^2$ score (use the `.score` method) to determine whether the\n",
        "equation is a good fit for this data. (0.8 and greater is considered a strong correlation.)\n",
        "3. Find the combination of the factors that is the best predictor for price.\n",
        "\n",
        "## Tasks, Hard Mode\n",
        "\n",
        "1. Research dummy variables in scikit-learn to see how to use the make, model, and body type.\n",
        "2. Find the best combination of factors to predict price."
      ]
    },
    {
      "cell_type": "code",
      "execution_count": 2,
      "metadata": {
        "id": "I-ssJAsuvFyj"
      },
      "outputs": [],
      "source": [
        "df = pd.read_csv(\"car_data.csv\")"
      ]
    },
    {
      "cell_type": "code",
      "source": [
        "df\n",
        "\n",
        "# Displays all dataset which stored in df"
      ],
      "metadata": {
        "id": "QXD3eqhMwVbO",
        "outputId": "59413016-9aa2-43ea-de7c-d578975e256e",
        "colab": {
          "base_uri": "https://localhost:8080/",
          "height": 423
        }
      },
      "execution_count": 3,
      "outputs": [
        {
          "output_type": "execute_result",
          "data": {
            "text/plain": [
              "            Price  Mileage    Make     Model           Trim   Type  Cylinder  \\\n",
              "0    17314.103129     8221   Buick   Century       Sedan 4D  Sedan         6   \n",
              "1    17542.036083     9135   Buick   Century       Sedan 4D  Sedan         6   \n",
              "2    16218.847862    13196   Buick   Century       Sedan 4D  Sedan         6   \n",
              "3    16336.913140    16342   Buick   Century       Sedan 4D  Sedan         6   \n",
              "4    16339.170324    19832   Buick   Century       Sedan 4D  Sedan         6   \n",
              "..            ...      ...     ...       ...            ...    ...       ...   \n",
              "799  16507.070267    16229  Saturn  L Series  L300 Sedan 4D  Sedan         6   \n",
              "800  16175.957604    19095  Saturn  L Series  L300 Sedan 4D  Sedan         6   \n",
              "801  15731.132897    20484  Saturn  L Series  L300 Sedan 4D  Sedan         6   \n",
              "802  15118.893228    25979  Saturn  L Series  L300 Sedan 4D  Sedan         6   \n",
              "803  13585.636802    35662  Saturn  L Series  L300 Sedan 4D  Sedan         6   \n",
              "\n",
              "     Liter  Doors  Cruise  Sound  Leather  \n",
              "0      3.1      4       1      1        1  \n",
              "1      3.1      4       1      1        0  \n",
              "2      3.1      4       1      1        0  \n",
              "3      3.1      4       1      0        0  \n",
              "4      3.1      4       1      0        1  \n",
              "..     ...    ...     ...    ...      ...  \n",
              "799    3.0      4       1      0        0  \n",
              "800    3.0      4       1      1        0  \n",
              "801    3.0      4       1      1        0  \n",
              "802    3.0      4       1      1        0  \n",
              "803    3.0      4       1      0        0  \n",
              "\n",
              "[804 rows x 12 columns]"
            ],
            "text/html": [
              "\n",
              "  <div id=\"df-df7fb249-3d0b-41eb-bc40-b99359b205d5\">\n",
              "    <div class=\"colab-df-container\">\n",
              "      <div>\n",
              "<style scoped>\n",
              "    .dataframe tbody tr th:only-of-type {\n",
              "        vertical-align: middle;\n",
              "    }\n",
              "\n",
              "    .dataframe tbody tr th {\n",
              "        vertical-align: top;\n",
              "    }\n",
              "\n",
              "    .dataframe thead th {\n",
              "        text-align: right;\n",
              "    }\n",
              "</style>\n",
              "<table border=\"1\" class=\"dataframe\">\n",
              "  <thead>\n",
              "    <tr style=\"text-align: right;\">\n",
              "      <th></th>\n",
              "      <th>Price</th>\n",
              "      <th>Mileage</th>\n",
              "      <th>Make</th>\n",
              "      <th>Model</th>\n",
              "      <th>Trim</th>\n",
              "      <th>Type</th>\n",
              "      <th>Cylinder</th>\n",
              "      <th>Liter</th>\n",
              "      <th>Doors</th>\n",
              "      <th>Cruise</th>\n",
              "      <th>Sound</th>\n",
              "      <th>Leather</th>\n",
              "    </tr>\n",
              "  </thead>\n",
              "  <tbody>\n",
              "    <tr>\n",
              "      <th>0</th>\n",
              "      <td>17314.103129</td>\n",
              "      <td>8221</td>\n",
              "      <td>Buick</td>\n",
              "      <td>Century</td>\n",
              "      <td>Sedan 4D</td>\n",
              "      <td>Sedan</td>\n",
              "      <td>6</td>\n",
              "      <td>3.1</td>\n",
              "      <td>4</td>\n",
              "      <td>1</td>\n",
              "      <td>1</td>\n",
              "      <td>1</td>\n",
              "    </tr>\n",
              "    <tr>\n",
              "      <th>1</th>\n",
              "      <td>17542.036083</td>\n",
              "      <td>9135</td>\n",
              "      <td>Buick</td>\n",
              "      <td>Century</td>\n",
              "      <td>Sedan 4D</td>\n",
              "      <td>Sedan</td>\n",
              "      <td>6</td>\n",
              "      <td>3.1</td>\n",
              "      <td>4</td>\n",
              "      <td>1</td>\n",
              "      <td>1</td>\n",
              "      <td>0</td>\n",
              "    </tr>\n",
              "    <tr>\n",
              "      <th>2</th>\n",
              "      <td>16218.847862</td>\n",
              "      <td>13196</td>\n",
              "      <td>Buick</td>\n",
              "      <td>Century</td>\n",
              "      <td>Sedan 4D</td>\n",
              "      <td>Sedan</td>\n",
              "      <td>6</td>\n",
              "      <td>3.1</td>\n",
              "      <td>4</td>\n",
              "      <td>1</td>\n",
              "      <td>1</td>\n",
              "      <td>0</td>\n",
              "    </tr>\n",
              "    <tr>\n",
              "      <th>3</th>\n",
              "      <td>16336.913140</td>\n",
              "      <td>16342</td>\n",
              "      <td>Buick</td>\n",
              "      <td>Century</td>\n",
              "      <td>Sedan 4D</td>\n",
              "      <td>Sedan</td>\n",
              "      <td>6</td>\n",
              "      <td>3.1</td>\n",
              "      <td>4</td>\n",
              "      <td>1</td>\n",
              "      <td>0</td>\n",
              "      <td>0</td>\n",
              "    </tr>\n",
              "    <tr>\n",
              "      <th>4</th>\n",
              "      <td>16339.170324</td>\n",
              "      <td>19832</td>\n",
              "      <td>Buick</td>\n",
              "      <td>Century</td>\n",
              "      <td>Sedan 4D</td>\n",
              "      <td>Sedan</td>\n",
              "      <td>6</td>\n",
              "      <td>3.1</td>\n",
              "      <td>4</td>\n",
              "      <td>1</td>\n",
              "      <td>0</td>\n",
              "      <td>1</td>\n",
              "    </tr>\n",
              "    <tr>\n",
              "      <th>...</th>\n",
              "      <td>...</td>\n",
              "      <td>...</td>\n",
              "      <td>...</td>\n",
              "      <td>...</td>\n",
              "      <td>...</td>\n",
              "      <td>...</td>\n",
              "      <td>...</td>\n",
              "      <td>...</td>\n",
              "      <td>...</td>\n",
              "      <td>...</td>\n",
              "      <td>...</td>\n",
              "      <td>...</td>\n",
              "    </tr>\n",
              "    <tr>\n",
              "      <th>799</th>\n",
              "      <td>16507.070267</td>\n",
              "      <td>16229</td>\n",
              "      <td>Saturn</td>\n",
              "      <td>L Series</td>\n",
              "      <td>L300 Sedan 4D</td>\n",
              "      <td>Sedan</td>\n",
              "      <td>6</td>\n",
              "      <td>3.0</td>\n",
              "      <td>4</td>\n",
              "      <td>1</td>\n",
              "      <td>0</td>\n",
              "      <td>0</td>\n",
              "    </tr>\n",
              "    <tr>\n",
              "      <th>800</th>\n",
              "      <td>16175.957604</td>\n",
              "      <td>19095</td>\n",
              "      <td>Saturn</td>\n",
              "      <td>L Series</td>\n",
              "      <td>L300 Sedan 4D</td>\n",
              "      <td>Sedan</td>\n",
              "      <td>6</td>\n",
              "      <td>3.0</td>\n",
              "      <td>4</td>\n",
              "      <td>1</td>\n",
              "      <td>1</td>\n",
              "      <td>0</td>\n",
              "    </tr>\n",
              "    <tr>\n",
              "      <th>801</th>\n",
              "      <td>15731.132897</td>\n",
              "      <td>20484</td>\n",
              "      <td>Saturn</td>\n",
              "      <td>L Series</td>\n",
              "      <td>L300 Sedan 4D</td>\n",
              "      <td>Sedan</td>\n",
              "      <td>6</td>\n",
              "      <td>3.0</td>\n",
              "      <td>4</td>\n",
              "      <td>1</td>\n",
              "      <td>1</td>\n",
              "      <td>0</td>\n",
              "    </tr>\n",
              "    <tr>\n",
              "      <th>802</th>\n",
              "      <td>15118.893228</td>\n",
              "      <td>25979</td>\n",
              "      <td>Saturn</td>\n",
              "      <td>L Series</td>\n",
              "      <td>L300 Sedan 4D</td>\n",
              "      <td>Sedan</td>\n",
              "      <td>6</td>\n",
              "      <td>3.0</td>\n",
              "      <td>4</td>\n",
              "      <td>1</td>\n",
              "      <td>1</td>\n",
              "      <td>0</td>\n",
              "    </tr>\n",
              "    <tr>\n",
              "      <th>803</th>\n",
              "      <td>13585.636802</td>\n",
              "      <td>35662</td>\n",
              "      <td>Saturn</td>\n",
              "      <td>L Series</td>\n",
              "      <td>L300 Sedan 4D</td>\n",
              "      <td>Sedan</td>\n",
              "      <td>6</td>\n",
              "      <td>3.0</td>\n",
              "      <td>4</td>\n",
              "      <td>1</td>\n",
              "      <td>0</td>\n",
              "      <td>0</td>\n",
              "    </tr>\n",
              "  </tbody>\n",
              "</table>\n",
              "<p>804 rows × 12 columns</p>\n",
              "</div>\n",
              "      <button class=\"colab-df-convert\" onclick=\"convertToInteractive('df-df7fb249-3d0b-41eb-bc40-b99359b205d5')\"\n",
              "              title=\"Convert this dataframe to an interactive table.\"\n",
              "              style=\"display:none;\">\n",
              "        \n",
              "  <svg xmlns=\"http://www.w3.org/2000/svg\" height=\"24px\"viewBox=\"0 0 24 24\"\n",
              "       width=\"24px\">\n",
              "    <path d=\"M0 0h24v24H0V0z\" fill=\"none\"/>\n",
              "    <path d=\"M18.56 5.44l.94 2.06.94-2.06 2.06-.94-2.06-.94-.94-2.06-.94 2.06-2.06.94zm-11 1L8.5 8.5l.94-2.06 2.06-.94-2.06-.94L8.5 2.5l-.94 2.06-2.06.94zm10 10l.94 2.06.94-2.06 2.06-.94-2.06-.94-.94-2.06-.94 2.06-2.06.94z\"/><path d=\"M17.41 7.96l-1.37-1.37c-.4-.4-.92-.59-1.43-.59-.52 0-1.04.2-1.43.59L10.3 9.45l-7.72 7.72c-.78.78-.78 2.05 0 2.83L4 21.41c.39.39.9.59 1.41.59.51 0 1.02-.2 1.41-.59l7.78-7.78 2.81-2.81c.8-.78.8-2.07 0-2.86zM5.41 20L4 18.59l7.72-7.72 1.47 1.35L5.41 20z\"/>\n",
              "  </svg>\n",
              "      </button>\n",
              "      \n",
              "  <style>\n",
              "    .colab-df-container {\n",
              "      display:flex;\n",
              "      flex-wrap:wrap;\n",
              "      gap: 12px;\n",
              "    }\n",
              "\n",
              "    .colab-df-convert {\n",
              "      background-color: #E8F0FE;\n",
              "      border: none;\n",
              "      border-radius: 50%;\n",
              "      cursor: pointer;\n",
              "      display: none;\n",
              "      fill: #1967D2;\n",
              "      height: 32px;\n",
              "      padding: 0 0 0 0;\n",
              "      width: 32px;\n",
              "    }\n",
              "\n",
              "    .colab-df-convert:hover {\n",
              "      background-color: #E2EBFA;\n",
              "      box-shadow: 0px 1px 2px rgba(60, 64, 67, 0.3), 0px 1px 3px 1px rgba(60, 64, 67, 0.15);\n",
              "      fill: #174EA6;\n",
              "    }\n",
              "\n",
              "    [theme=dark] .colab-df-convert {\n",
              "      background-color: #3B4455;\n",
              "      fill: #D2E3FC;\n",
              "    }\n",
              "\n",
              "    [theme=dark] .colab-df-convert:hover {\n",
              "      background-color: #434B5C;\n",
              "      box-shadow: 0px 1px 3px 1px rgba(0, 0, 0, 0.15);\n",
              "      filter: drop-shadow(0px 1px 2px rgba(0, 0, 0, 0.3));\n",
              "      fill: #FFFFFF;\n",
              "    }\n",
              "  </style>\n",
              "\n",
              "      <script>\n",
              "        const buttonEl =\n",
              "          document.querySelector('#df-df7fb249-3d0b-41eb-bc40-b99359b205d5 button.colab-df-convert');\n",
              "        buttonEl.style.display =\n",
              "          google.colab.kernel.accessAllowed ? 'block' : 'none';\n",
              "\n",
              "        async function convertToInteractive(key) {\n",
              "          const element = document.querySelector('#df-df7fb249-3d0b-41eb-bc40-b99359b205d5');\n",
              "          const dataTable =\n",
              "            await google.colab.kernel.invokeFunction('convertToInteractive',\n",
              "                                                     [key], {});\n",
              "          if (!dataTable) return;\n",
              "\n",
              "          const docLinkHtml = 'Like what you see? Visit the ' +\n",
              "            '<a target=\"_blank\" href=https://colab.research.google.com/notebooks/data_table.ipynb>data table notebook</a>'\n",
              "            + ' to learn more about interactive tables.';\n",
              "          element.innerHTML = '';\n",
              "          dataTable['output_type'] = 'display_data';\n",
              "          await google.colab.output.renderOutput(dataTable, element);\n",
              "          const docLink = document.createElement('div');\n",
              "          docLink.innerHTML = docLinkHtml;\n",
              "          element.appendChild(docLink);\n",
              "        }\n",
              "      </script>\n",
              "    </div>\n",
              "  </div>\n",
              "  "
            ]
          },
          "metadata": {},
          "execution_count": 3
        }
      ]
    },
    {
      "cell_type": "markdown",
      "source": [
        "### **Data-Cleaning**"
      ],
      "metadata": {
        "id": "tLegLFXj0RoU"
      }
    },
    {
      "cell_type": "code",
      "source": [
        "df.head()\n",
        "\n",
        "# Display only First 5 - data from df"
      ],
      "metadata": {
        "id": "nU1Rav60v7mo",
        "outputId": "4a56b68c-a92c-49a0-ef3c-9b3d0c4d70c6",
        "colab": {
          "base_uri": "https://localhost:8080/",
          "height": 206
        }
      },
      "execution_count": 4,
      "outputs": [
        {
          "output_type": "execute_result",
          "data": {
            "text/plain": [
              "          Price  Mileage   Make    Model      Trim   Type  Cylinder  Liter  \\\n",
              "0  17314.103129     8221  Buick  Century  Sedan 4D  Sedan         6    3.1   \n",
              "1  17542.036083     9135  Buick  Century  Sedan 4D  Sedan         6    3.1   \n",
              "2  16218.847862    13196  Buick  Century  Sedan 4D  Sedan         6    3.1   \n",
              "3  16336.913140    16342  Buick  Century  Sedan 4D  Sedan         6    3.1   \n",
              "4  16339.170324    19832  Buick  Century  Sedan 4D  Sedan         6    3.1   \n",
              "\n",
              "   Doors  Cruise  Sound  Leather  \n",
              "0      4       1      1        1  \n",
              "1      4       1      1        0  \n",
              "2      4       1      1        0  \n",
              "3      4       1      0        0  \n",
              "4      4       1      0        1  "
            ],
            "text/html": [
              "\n",
              "  <div id=\"df-1ce7e538-acbb-47e0-a118-e474dfe7bc0d\">\n",
              "    <div class=\"colab-df-container\">\n",
              "      <div>\n",
              "<style scoped>\n",
              "    .dataframe tbody tr th:only-of-type {\n",
              "        vertical-align: middle;\n",
              "    }\n",
              "\n",
              "    .dataframe tbody tr th {\n",
              "        vertical-align: top;\n",
              "    }\n",
              "\n",
              "    .dataframe thead th {\n",
              "        text-align: right;\n",
              "    }\n",
              "</style>\n",
              "<table border=\"1\" class=\"dataframe\">\n",
              "  <thead>\n",
              "    <tr style=\"text-align: right;\">\n",
              "      <th></th>\n",
              "      <th>Price</th>\n",
              "      <th>Mileage</th>\n",
              "      <th>Make</th>\n",
              "      <th>Model</th>\n",
              "      <th>Trim</th>\n",
              "      <th>Type</th>\n",
              "      <th>Cylinder</th>\n",
              "      <th>Liter</th>\n",
              "      <th>Doors</th>\n",
              "      <th>Cruise</th>\n",
              "      <th>Sound</th>\n",
              "      <th>Leather</th>\n",
              "    </tr>\n",
              "  </thead>\n",
              "  <tbody>\n",
              "    <tr>\n",
              "      <th>0</th>\n",
              "      <td>17314.103129</td>\n",
              "      <td>8221</td>\n",
              "      <td>Buick</td>\n",
              "      <td>Century</td>\n",
              "      <td>Sedan 4D</td>\n",
              "      <td>Sedan</td>\n",
              "      <td>6</td>\n",
              "      <td>3.1</td>\n",
              "      <td>4</td>\n",
              "      <td>1</td>\n",
              "      <td>1</td>\n",
              "      <td>1</td>\n",
              "    </tr>\n",
              "    <tr>\n",
              "      <th>1</th>\n",
              "      <td>17542.036083</td>\n",
              "      <td>9135</td>\n",
              "      <td>Buick</td>\n",
              "      <td>Century</td>\n",
              "      <td>Sedan 4D</td>\n",
              "      <td>Sedan</td>\n",
              "      <td>6</td>\n",
              "      <td>3.1</td>\n",
              "      <td>4</td>\n",
              "      <td>1</td>\n",
              "      <td>1</td>\n",
              "      <td>0</td>\n",
              "    </tr>\n",
              "    <tr>\n",
              "      <th>2</th>\n",
              "      <td>16218.847862</td>\n",
              "      <td>13196</td>\n",
              "      <td>Buick</td>\n",
              "      <td>Century</td>\n",
              "      <td>Sedan 4D</td>\n",
              "      <td>Sedan</td>\n",
              "      <td>6</td>\n",
              "      <td>3.1</td>\n",
              "      <td>4</td>\n",
              "      <td>1</td>\n",
              "      <td>1</td>\n",
              "      <td>0</td>\n",
              "    </tr>\n",
              "    <tr>\n",
              "      <th>3</th>\n",
              "      <td>16336.913140</td>\n",
              "      <td>16342</td>\n",
              "      <td>Buick</td>\n",
              "      <td>Century</td>\n",
              "      <td>Sedan 4D</td>\n",
              "      <td>Sedan</td>\n",
              "      <td>6</td>\n",
              "      <td>3.1</td>\n",
              "      <td>4</td>\n",
              "      <td>1</td>\n",
              "      <td>0</td>\n",
              "      <td>0</td>\n",
              "    </tr>\n",
              "    <tr>\n",
              "      <th>4</th>\n",
              "      <td>16339.170324</td>\n",
              "      <td>19832</td>\n",
              "      <td>Buick</td>\n",
              "      <td>Century</td>\n",
              "      <td>Sedan 4D</td>\n",
              "      <td>Sedan</td>\n",
              "      <td>6</td>\n",
              "      <td>3.1</td>\n",
              "      <td>4</td>\n",
              "      <td>1</td>\n",
              "      <td>0</td>\n",
              "      <td>1</td>\n",
              "    </tr>\n",
              "  </tbody>\n",
              "</table>\n",
              "</div>\n",
              "      <button class=\"colab-df-convert\" onclick=\"convertToInteractive('df-1ce7e538-acbb-47e0-a118-e474dfe7bc0d')\"\n",
              "              title=\"Convert this dataframe to an interactive table.\"\n",
              "              style=\"display:none;\">\n",
              "        \n",
              "  <svg xmlns=\"http://www.w3.org/2000/svg\" height=\"24px\"viewBox=\"0 0 24 24\"\n",
              "       width=\"24px\">\n",
              "    <path d=\"M0 0h24v24H0V0z\" fill=\"none\"/>\n",
              "    <path d=\"M18.56 5.44l.94 2.06.94-2.06 2.06-.94-2.06-.94-.94-2.06-.94 2.06-2.06.94zm-11 1L8.5 8.5l.94-2.06 2.06-.94-2.06-.94L8.5 2.5l-.94 2.06-2.06.94zm10 10l.94 2.06.94-2.06 2.06-.94-2.06-.94-.94-2.06-.94 2.06-2.06.94z\"/><path d=\"M17.41 7.96l-1.37-1.37c-.4-.4-.92-.59-1.43-.59-.52 0-1.04.2-1.43.59L10.3 9.45l-7.72 7.72c-.78.78-.78 2.05 0 2.83L4 21.41c.39.39.9.59 1.41.59.51 0 1.02-.2 1.41-.59l7.78-7.78 2.81-2.81c.8-.78.8-2.07 0-2.86zM5.41 20L4 18.59l7.72-7.72 1.47 1.35L5.41 20z\"/>\n",
              "  </svg>\n",
              "      </button>\n",
              "      \n",
              "  <style>\n",
              "    .colab-df-container {\n",
              "      display:flex;\n",
              "      flex-wrap:wrap;\n",
              "      gap: 12px;\n",
              "    }\n",
              "\n",
              "    .colab-df-convert {\n",
              "      background-color: #E8F0FE;\n",
              "      border: none;\n",
              "      border-radius: 50%;\n",
              "      cursor: pointer;\n",
              "      display: none;\n",
              "      fill: #1967D2;\n",
              "      height: 32px;\n",
              "      padding: 0 0 0 0;\n",
              "      width: 32px;\n",
              "    }\n",
              "\n",
              "    .colab-df-convert:hover {\n",
              "      background-color: #E2EBFA;\n",
              "      box-shadow: 0px 1px 2px rgba(60, 64, 67, 0.3), 0px 1px 3px 1px rgba(60, 64, 67, 0.15);\n",
              "      fill: #174EA6;\n",
              "    }\n",
              "\n",
              "    [theme=dark] .colab-df-convert {\n",
              "      background-color: #3B4455;\n",
              "      fill: #D2E3FC;\n",
              "    }\n",
              "\n",
              "    [theme=dark] .colab-df-convert:hover {\n",
              "      background-color: #434B5C;\n",
              "      box-shadow: 0px 1px 3px 1px rgba(0, 0, 0, 0.15);\n",
              "      filter: drop-shadow(0px 1px 2px rgba(0, 0, 0, 0.3));\n",
              "      fill: #FFFFFF;\n",
              "    }\n",
              "  </style>\n",
              "\n",
              "      <script>\n",
              "        const buttonEl =\n",
              "          document.querySelector('#df-1ce7e538-acbb-47e0-a118-e474dfe7bc0d button.colab-df-convert');\n",
              "        buttonEl.style.display =\n",
              "          google.colab.kernel.accessAllowed ? 'block' : 'none';\n",
              "\n",
              "        async function convertToInteractive(key) {\n",
              "          const element = document.querySelector('#df-1ce7e538-acbb-47e0-a118-e474dfe7bc0d');\n",
              "          const dataTable =\n",
              "            await google.colab.kernel.invokeFunction('convertToInteractive',\n",
              "                                                     [key], {});\n",
              "          if (!dataTable) return;\n",
              "\n",
              "          const docLinkHtml = 'Like what you see? Visit the ' +\n",
              "            '<a target=\"_blank\" href=https://colab.research.google.com/notebooks/data_table.ipynb>data table notebook</a>'\n",
              "            + ' to learn more about interactive tables.';\n",
              "          element.innerHTML = '';\n",
              "          dataTable['output_type'] = 'display_data';\n",
              "          await google.colab.output.renderOutput(dataTable, element);\n",
              "          const docLink = document.createElement('div');\n",
              "          docLink.innerHTML = docLinkHtml;\n",
              "          element.appendChild(docLink);\n",
              "        }\n",
              "      </script>\n",
              "    </div>\n",
              "  </div>\n",
              "  "
            ]
          },
          "metadata": {},
          "execution_count": 4
        }
      ]
    },
    {
      "cell_type": "code",
      "source": [
        "df.columns\n",
        "\n",
        "# Display all column name"
      ],
      "metadata": {
        "id": "KZIGe2ziwCAu",
        "outputId": "7259b6f9-6fe8-4c4f-e5d4-c6b799330c58",
        "colab": {
          "base_uri": "https://localhost:8080/"
        }
      },
      "execution_count": 5,
      "outputs": [
        {
          "output_type": "execute_result",
          "data": {
            "text/plain": [
              "Index(['Price', 'Mileage', 'Make', 'Model', 'Trim', 'Type', 'Cylinder',\n",
              "       'Liter', 'Doors', 'Cruise', 'Sound', 'Leather'],\n",
              "      dtype='object')"
            ]
          },
          "metadata": {},
          "execution_count": 5
        }
      ]
    },
    {
      "cell_type": "code",
      "source": [
        "df.shape\n",
        "\n",
        "# represent 804 - rows  &  12 - columns in df"
      ],
      "metadata": {
        "id": "OHesYlD7wOFh",
        "outputId": "e373f9c9-a971-45e5-e588-cb25b4f6efd0",
        "colab": {
          "base_uri": "https://localhost:8080/"
        }
      },
      "execution_count": 6,
      "outputs": [
        {
          "output_type": "execute_result",
          "data": {
            "text/plain": [
              "(804, 12)"
            ]
          },
          "metadata": {},
          "execution_count": 6
        }
      ]
    },
    {
      "cell_type": "code",
      "source": [
        "df.isnull().sum()\n",
        "\n",
        "# Checking for null values in df"
      ],
      "metadata": {
        "id": "YWQYL-D-wOCK",
        "outputId": "b8a1ea28-80cb-4565-e655-c29919f8ceee",
        "colab": {
          "base_uri": "https://localhost:8080/"
        }
      },
      "execution_count": 7,
      "outputs": [
        {
          "output_type": "execute_result",
          "data": {
            "text/plain": [
              "Price       0\n",
              "Mileage     0\n",
              "Make        0\n",
              "Model       0\n",
              "Trim        0\n",
              "Type        0\n",
              "Cylinder    0\n",
              "Liter       0\n",
              "Doors       0\n",
              "Cruise      0\n",
              "Sound       0\n",
              "Leather     0\n",
              "dtype: int64"
            ]
          },
          "metadata": {},
          "execution_count": 7
        }
      ]
    },
    {
      "cell_type": "code",
      "source": [
        "df.dtypes\n",
        "\n",
        "# checking for data_types of columns"
      ],
      "metadata": {
        "id": "Fvr7mTPOwN_b",
        "outputId": "89854ea5-8bc9-4432-9232-77964c3b0f4b",
        "colab": {
          "base_uri": "https://localhost:8080/"
        }
      },
      "execution_count": 8,
      "outputs": [
        {
          "output_type": "execute_result",
          "data": {
            "text/plain": [
              "Price       float64\n",
              "Mileage       int64\n",
              "Make         object\n",
              "Model        object\n",
              "Trim         object\n",
              "Type         object\n",
              "Cylinder      int64\n",
              "Liter       float64\n",
              "Doors         int64\n",
              "Cruise        int64\n",
              "Sound         int64\n",
              "Leather       int64\n",
              "dtype: object"
            ]
          },
          "metadata": {},
          "execution_count": 8
        }
      ]
    },
    {
      "cell_type": "code",
      "source": [
        "numerical_features=[x for x in df.columns if df[x].dtype!=\"object\"]\n",
        "numerical_features\n",
        "\n",
        "# splitting only numerical columns = {Int,float} from dataset"
      ],
      "metadata": {
        "id": "zr6_sG7GwN8z",
        "outputId": "b5881085-0d15-4c9f-cd4c-6306f935336d",
        "colab": {
          "base_uri": "https://localhost:8080/"
        }
      },
      "execution_count": 9,
      "outputs": [
        {
          "output_type": "execute_result",
          "data": {
            "text/plain": [
              "['Price',\n",
              " 'Mileage',\n",
              " 'Cylinder',\n",
              " 'Liter',\n",
              " 'Doors',\n",
              " 'Cruise',\n",
              " 'Sound',\n",
              " 'Leather']"
            ]
          },
          "metadata": {},
          "execution_count": 9
        }
      ]
    },
    {
      "cell_type": "code",
      "source": [
        "categorical_features=[x for x in df.columns if df[x].dtype==\"object\"]\n",
        "categorical_features\n",
        "\n",
        "# splitting categorical columns = {objects / char} from dataset"
      ],
      "metadata": {
        "id": "TbZHXI3OwN5z",
        "outputId": "39d1a829-b21e-4215-8574-d4033fae9ce3",
        "colab": {
          "base_uri": "https://localhost:8080/"
        }
      },
      "execution_count": 10,
      "outputs": [
        {
          "output_type": "execute_result",
          "data": {
            "text/plain": [
              "['Make', 'Model', 'Trim', 'Type']"
            ]
          },
          "metadata": {},
          "execution_count": 10
        }
      ]
    },
    {
      "cell_type": "code",
      "source": [
        "df['Make'].unique() \n",
        "\n",
        "# Gathering unique values from \"Make\" - column "
      ],
      "metadata": {
        "id": "wViBQEqDwN3D",
        "outputId": "d58c5343-f18c-40ef-db65-72bd03604913",
        "colab": {
          "base_uri": "https://localhost:8080/"
        }
      },
      "execution_count": 11,
      "outputs": [
        {
          "output_type": "execute_result",
          "data": {
            "text/plain": [
              "array(['Buick', 'Cadillac', 'Chevrolet', 'Pontiac', 'SAAB', 'Saturn'],\n",
              "      dtype=object)"
            ]
          },
          "metadata": {},
          "execution_count": 11
        }
      ]
    },
    {
      "cell_type": "code",
      "source": [
        "df['Model'].unique()\n",
        "\n",
        "# Gathering unique values from \"Model\" - column "
      ],
      "metadata": {
        "id": "8egbS7ezyuDk",
        "outputId": "fe4b1a9f-4fde-4739-9ae3-e3dbdd7ab638",
        "colab": {
          "base_uri": "https://localhost:8080/"
        }
      },
      "execution_count": 12,
      "outputs": [
        {
          "output_type": "execute_result",
          "data": {
            "text/plain": [
              "array(['Century', 'Lacrosse', 'Lesabre', 'Park Avenue', 'CST-V', 'CTS',\n",
              "       'Deville', 'STS-V6', 'STS-V8', 'XLR-V8', 'AVEO', 'Cavalier',\n",
              "       'Classic', 'Cobalt', 'Corvette', 'Impala', 'Malibu', 'Monte Carlo',\n",
              "       'Bonneville', 'G6', 'Grand Am', 'Grand Prix', 'GTO', 'Sunfire',\n",
              "       'Vibe', '9_3', '9_3 HO', '9_5', '9_5 HO', '9-2X AWD', 'Ion',\n",
              "       'L Series'], dtype=object)"
            ]
          },
          "metadata": {},
          "execution_count": 12
        }
      ]
    },
    {
      "cell_type": "code",
      "source": [
        "df['Trim'].unique() \n",
        "\n",
        "# Gathering unique values from \"Trim\" - column "
      ],
      "metadata": {
        "id": "SwKRcglMyuAC",
        "outputId": "96f478ce-bff5-4d3e-810a-1dead24066ec",
        "colab": {
          "base_uri": "https://localhost:8080/"
        }
      },
      "execution_count": 13,
      "outputs": [
        {
          "output_type": "execute_result",
          "data": {
            "text/plain": [
              "array(['Sedan 4D', 'CX Sedan 4D', 'CXL Sedan 4D', 'CXS Sedan 4D',\n",
              "       'Custom Sedan 4D', 'Limited Sedan 4D', 'Special Ed Ultra 4D',\n",
              "       'DHS Sedan 4D', 'DTS Sedan 4D', 'Hardtop Conv 2D',\n",
              "       'LS Hatchback 4D', 'LS Sedan 4D', 'LT Hatchback 4D', 'LT Sedan 4D',\n",
              "       'SVM Hatchback 4D', 'SVM Sedan 4D', 'Coupe 2D', 'LS Coupe 2D',\n",
              "       'LS Sport Coupe 2D', 'LS Sport Sedan 4D', 'Conv 2D', 'SS Sedan 4D',\n",
              "       'LS MAXX Hback 4D', 'LT MAXX Hback 4D', 'MAXX Hback 4D',\n",
              "       'LT Coupe 2D', 'SS Coupe 2D', 'GXP Sedan 4D', 'SE Sedan 4D',\n",
              "       'SLE Sedan 4D', 'GT Sedan 4D', 'GT Coupe 2D', 'GTP Sedan 4D',\n",
              "       'AWD Sportwagon 4D', 'GT Sportwagon', 'Sportwagon 4D',\n",
              "       'Linear Conv 2D', 'Linear Sedan 4D', 'Aero Conv 2D',\n",
              "       'Aero Sedan 4D', 'Arc Conv 2D', 'Arc Sedan 4D', 'Arc Wagon 4D',\n",
              "       'Linear Wagon 4D', 'Aero Wagon 4D', 'Quad Coupe 2D',\n",
              "       'L300 Sedan 4D'], dtype=object)"
            ]
          },
          "metadata": {},
          "execution_count": 13
        }
      ]
    },
    {
      "cell_type": "code",
      "source": [
        "df['Type'].unique() \n",
        "\n",
        "# Gathering unique values from \"Type\" - column "
      ],
      "metadata": {
        "id": "I1pfiBr7yt9b",
        "outputId": "0a57fd34-a305-4a42-f49f-b055edb1cb5a",
        "colab": {
          "base_uri": "https://localhost:8080/"
        }
      },
      "execution_count": 14,
      "outputs": [
        {
          "output_type": "execute_result",
          "data": {
            "text/plain": [
              "array(['Sedan', 'Convertible', 'Hatchback', 'Coupe', 'Wagon'],\n",
              "      dtype=object)"
            ]
          },
          "metadata": {},
          "execution_count": 14
        }
      ]
    },
    {
      "cell_type": "markdown",
      "source": [
        "#-------------------------------***TASK - Part_1***-----------------------------------"
      ],
      "metadata": {
        "id": "MMpalawY71dO"
      }
    },
    {
      "cell_type": "markdown",
      "source": [
        "## **Linear regression Model**\n",
        "\n",
        "### 1.   Find the linear regression equation for mileage vs price.\n",
        "\n",
        "\n"
      ],
      "metadata": {
        "id": "Dwy1OwW40I5X"
      }
    },
    {
      "cell_type": "code",
      "source": [
        "from sklearn.linear_model import LinearRegression\n",
        "from sklearn.metrics import r2_score\n",
        "\n",
        "X = df['Mileage'].values.reshape(-1,1)\n",
        "Y = df['Price'].values.reshape(-1,1)\n",
        "\n",
        "model=LinearRegression()\n",
        "model.fit(X,Y)\n",
        "print(\"Intercept:{}, Coefficients:{}\".format(model.intercept_, model.coef_))\n",
        "\n",
        "\n",
        "# Import necessary module from scikit-learn package\n",
        "\n",
        "# To Calculate Linear regrr - equation we require (Coefficient & Intercept) of model\n",
        "# Inside Model we considering  \"X ---> mileage\"   &   \"Y ---> price\"\n",
        "\n",
        "# using .format method finding the Coefficient & intercept from model"
      ],
      "metadata": {
        "id": "_jm8jv7syt6i",
        "outputId": "7e35d88f-39c2-4db5-9370-401e2f7eb9e5",
        "colab": {
          "base_uri": "https://localhost:8080/"
        }
      },
      "execution_count": 15,
      "outputs": [
        {
          "output_type": "stream",
          "name": "stdout",
          "text": [
            "Intercept:[24764.55900606], Coefficients:[[-0.1725205]]\n"
          ]
        }
      ]
    },
    {
      "cell_type": "code",
      "source": [
        "equation = \"Y = {}*X  + {}\".format(model.coef_[0],model.intercept_)\n",
        "print(\"The linear equation of dataset is \\n\",equation)\n",
        "\n",
        "# Y = m*x + c ----> linear equation \"FORMULA\" \n",
        "# here m --> Coefficient  &  c --> Intercept "
      ],
      "metadata": {
        "id": "mrRMlnjj3w0L",
        "outputId": "5ea14ed5-e845-4541-d691-6bd71969183a",
        "colab": {
          "base_uri": "https://localhost:8080/"
        }
      },
      "execution_count": 16,
      "outputs": [
        {
          "output_type": "stream",
          "name": "stdout",
          "text": [
            "The linear equation of dataset is \n",
            " Y = [-0.1725205]*X  + [24764.55900606]\n"
          ]
        }
      ]
    },
    {
      "cell_type": "markdown",
      "source": [
        " \n",
        "### 2.   Plotting the original data and the regression line\n",
        "\n"
      ],
      "metadata": {
        "id": "46m8uUF85RBj"
      }
    },
    {
      "cell_type": "code",
      "source": [
        "plt.scatter(X,Y)\n",
        "plt.plot(X, model.predict(X), color=\"purple\", linewidth=3)\n",
        "plt.xlabel(\"Mileage\")\n",
        "plt.ylabel(\"Price\")\n",
        "plt.title(\"Mileage vs Price\")\n",
        "plt.grid()\n",
        "plt.show()"
      ],
      "metadata": {
        "id": "f0-PS9sU3ww3",
        "outputId": "452e5809-4981-4402-986a-952cdd171a95",
        "colab": {
          "base_uri": "https://localhost:8080/",
          "height": 295
        }
      },
      "execution_count": 17,
      "outputs": [
        {
          "output_type": "display_data",
          "data": {
            "text/plain": [
              "<Figure size 432x288 with 1 Axes>"
            ],
            "image/png": "[encoded data removed]"
          },
          "metadata": {
            "needs_background": "light"
          }
        }
      ]
    },
    {
      "cell_type": "code",
      "source": [
        "model.score(X,Y)\n",
        "\n",
        "# R2-score ---> 0.8 and greater is considered a strong correlation."
      ],
      "metadata": {
        "id": "yP6id09C3wuU",
        "outputId": "ef8a2806-9e96-4c77-cb5a-d96199baf51b",
        "colab": {
          "base_uri": "https://localhost:8080/"
        }
      },
      "execution_count": 18,
      "outputs": [
        {
          "output_type": "execute_result",
          "data": {
            "text/plain": [
              "0.02046344732348926"
            ]
          },
          "metadata": {},
          "execution_count": 18
        }
      ]
    },
    {
      "cell_type": "markdown",
      "source": [
        "## **Conclusion:**\n",
        "\n",
        "1.   R2-score = 0.0204 for model is **very low.**\n",
        "2.   Since there is **no correlation** between \"*mileage*\" and \"*price*\" column\n",
        "\n"
      ],
      "metadata": {
        "id": "fcAvzGKC61bs"
      }
    },
    {
      "cell_type": "markdown",
      "source": [
        "#-----------------------------------------------***TASK  -  Part_2***--------------------------------------------------"
      ],
      "metadata": {
        "id": "eTBPcJWA8QtO"
      }
    },
    {
      "cell_type": "markdown",
      "source": [
        "\n",
        "\n",
        "### 1.   Use mileage, cylinders, liters, doors, cruise, sound, and leather to find the linear regression equation.\n",
        "\n",
        "### 2.   Find the equation's  R2  score (use the .score method) to determine whether the equation is a good fit for this data. (0.8 and greater is considered a strong correlation.)\n",
        "\n",
        "\n"
      ],
      "metadata": {
        "id": "Sd6dp115NXwl"
      }
    },
    {
      "cell_type": "code",
      "source": [
        "input_cols = ['Mileage','Cylinder','Liter','Doors','Cruise','Sound','Leather']\n",
        "X = df[input_cols]\n",
        "\n",
        "# we are taking \"mileage\", \"cylinders\", \"liters\", \"doors\", \"cruise\", \"sound\", & \"leather\" in form of X"
      ],
      "metadata": {
        "id": "aqiaz2E03wry"
      },
      "execution_count": 19,
      "outputs": []
    },
    {
      "cell_type": "code",
      "source": [
        "from sklearn.preprocessing import StandardScaler,MinMaxScaler\n",
        "\n",
        "func1 = MinMaxScaler(feature_range = (0,1))\n",
        "func2 = StandardScaler()\n",
        "\n",
        "X_norm = func1.fit_transform(X)\n",
        "func2.fit(X)\n",
        "X_stand = func2.transform(X) "
      ],
      "metadata": {
        "id": "2MwRGTs73wpY"
      },
      "execution_count": 20,
      "outputs": []
    },
    {
      "cell_type": "markdown",
      "source": [
        "### **Model - 1** ---> Without normalization/Standardization"
      ],
      "metadata": {
        "id": "KYvk1BIudiVc"
      }
    },
    {
      "cell_type": "code",
      "source": [
        "Y = df['Price'].values.reshape(-1,1)\n",
        "model1 = LinearRegression()\n",
        "model1.fit(X,Y)\n",
        "print(\"Intercept:{} ,Coefficients:{}\".format(model1.intercept_, model1.coef_))\n",
        "\n",
        "model1.score(X,Y)\n",
        "\n",
        "\n",
        "# Linear regression (model-1) ---> \"without normalization/Standardization of i/p\"\n",
        "# we are taking \"Price\" in form of Y\n",
        "# we are taking \"input_cols\" in form of X"
      ],
      "metadata": {
        "id": "I-JpLSeYO7Pp",
        "outputId": "1818c943-80b6-4dcb-cd25-1e222aef799e",
        "colab": {
          "base_uri": "https://localhost:8080/"
        }
      },
      "execution_count": 21,
      "outputs": [
        {
          "output_type": "stream",
          "name": "stdout",
          "text": [
            "Intercept:[6758.7551436] ,Coefficients:[[-1.69747832e-01  3.79237893e+03 -7.87220732e+02 -1.54274585e+03\n",
            "   6.28899715e+03 -1.99379528e+03  3.34936162e+03]]\n"
          ]
        },
        {
          "output_type": "execute_result",
          "data": {
            "text/plain": [
              "0.446264353672838"
            ]
          },
          "metadata": {},
          "execution_count": 21
        }
      ]
    },
    {
      "cell_type": "code",
      "source": [
        "equation = \"Price = {}*{}  + {}\".format(input_cols, model1.coef_, model1.intercept_)\n",
        "print(\"The linear equation is \\n\",equation)\n",
        "\n",
        "# Y = m*x + c  <-------  Linea__regg FORMULA\n",
        "# m ---> input column name [0 - 6 column]\n",
        "# X ---> input column values respective \"Coefficient\" [0 - 6 column]\n",
        "# C ---> \"Intercept\"\n",
        "# Y ---> \"Price\" "
      ],
      "metadata": {
        "id": "gkYLH2V2UhQp",
        "outputId": "dbc2ce79-3b2b-41b3-dbfd-e4a0663c4e0b",
        "colab": {
          "base_uri": "https://localhost:8080/"
        }
      },
      "execution_count": 22,
      "outputs": [
        {
          "output_type": "stream",
          "name": "stdout",
          "text": [
            "The linear equation is \n",
            " Price = ['Mileage', 'Cylinder', 'Liter', 'Doors', 'Cruise', 'Sound', 'Leather']*[[-1.69747832e-01  3.79237893e+03 -7.87220732e+02 -1.54274585e+03\n",
            "   6.28899715e+03 -1.99379528e+03  3.34936162e+03]]  + [6758.7551436]\n"
          ]
        }
      ]
    },
    {
      "cell_type": "markdown",
      "source": [
        "### **Model - 2** ---> With Standardization i/p"
      ],
      "metadata": {
        "id": "35B5KGoUdy9w"
      }
    },
    {
      "cell_type": "code",
      "source": [
        "Y = df['Price'].values.reshape(-1,1)\n",
        "model2 = LinearRegression()\n",
        "model2.fit(X_stand,Y)\n",
        "print(\"Intercept:{} ,Coefficients:{}\".format(model2.intercept_, model2.coef_))\n",
        "\n",
        "model2.score(X_stand,Y)\n",
        "\n",
        "\n",
        "# Linear regression (model-2) ---> \"with Standardized i/p\"\n",
        "# we are taking \"Price\" in form of Y\n",
        "# we are taking \"input_cols\" in form of X_Stand"
      ],
      "metadata": {
        "id": "9etVKulrO7MA",
        "outputId": "7baf9f23-009e-4fae-9229-7e42863ce8b7",
        "colab": {
          "base_uri": "https://localhost:8080/"
        }
      },
      "execution_count": 23,
      "outputs": [
        {
          "output_type": "stream",
          "name": "stdout",
          "text": [
            "Intercept:[21343.14376733] ,Coefficients:[[-1390.44199315  5258.77092032  -869.77988086 -1310.7785287\n",
            "   2714.12330837  -930.74494929  1497.42117515]]\n"
          ]
        },
        {
          "output_type": "execute_result",
          "data": {
            "text/plain": [
              "0.446264353672838"
            ]
          },
          "metadata": {},
          "execution_count": 23
        }
      ]
    },
    {
      "cell_type": "code",
      "source": [
        "equation = \"Price = {}*{}  + {}\".format(input_cols, model2.coef_, model2.intercept_)\n",
        "print(\"The linear equation is \\n\",equation)"
      ],
      "metadata": {
        "id": "zuHkim7ueWsJ",
        "outputId": "2dcc80c8-3c69-4417-9481-323587753dab",
        "colab": {
          "base_uri": "https://localhost:8080/"
        }
      },
      "execution_count": 24,
      "outputs": [
        {
          "output_type": "stream",
          "name": "stdout",
          "text": [
            "The linear equation is \n",
            " Price = ['Mileage', 'Cylinder', 'Liter', 'Doors', 'Cruise', 'Sound', 'Leather']*[[-1390.44199315  5258.77092032  -869.77988086 -1310.7785287\n",
            "   2714.12330837  -930.74494929  1497.42117515]]  + [21343.14376733]\n"
          ]
        }
      ]
    },
    {
      "cell_type": "markdown",
      "source": [
        "### **Model - 3** ---> With normalization i/p"
      ],
      "metadata": {
        "id": "NdEIznA4eBwU"
      }
    },
    {
      "cell_type": "code",
      "source": [
        "Y = df['Price'].values.reshape(-1,1)\n",
        "model3 = LinearRegression()\n",
        "model3.fit(X_norm,Y)\n",
        "print(\"Intercept:{} ,Coefficients:{}\".format(model3.intercept_, model3.coef_))\n",
        "\n",
        "model3.score(X_norm,Y)\n",
        "\n",
        "\n",
        "# Linear regression (model-3) ---> \"with normalized i/p\"\n",
        "# we are taking \"Price\" in form of Y\n",
        "# we are taking \"input_cols\" in form of X_norm"
      ],
      "metadata": {
        "id": "F6SDGta4O7Jq",
        "outputId": "2818a590-cb25-4187-9a41-24c75143fc31",
        "colab": {
          "base_uri": "https://localhost:8080/"
        }
      },
      "execution_count": 25,
      "outputs": [
        {
          "output_type": "stream",
          "name": "stdout",
          "text": [
            "Intercept:[17538.07307995] ,Coefficients:[[-8507.93110436 15169.51572313 -3463.77121919 -3085.49169276\n",
            "   6288.99714985 -1993.7952757   3349.36161961]]\n"
          ]
        },
        {
          "output_type": "execute_result",
          "data": {
            "text/plain": [
              "0.4462643536728379"
            ]
          },
          "metadata": {},
          "execution_count": 25
        }
      ]
    },
    {
      "cell_type": "code",
      "source": [
        "equation = \"Price = {}*{}  + {}\".format(input_cols, model3.coef_, model3.intercept_)\n",
        "print(\"The linear equation is \\n\",equation)"
      ],
      "metadata": {
        "id": "SJer53eEecJ2",
        "outputId": "a7d71f3e-d6df-4844-e10e-001e5f8e81ab",
        "colab": {
          "base_uri": "https://localhost:8080/"
        }
      },
      "execution_count": 26,
      "outputs": [
        {
          "output_type": "stream",
          "name": "stdout",
          "text": [
            "The linear equation is \n",
            " Price = ['Mileage', 'Cylinder', 'Liter', 'Doors', 'Cruise', 'Sound', 'Leather']*[[-8507.93110436 15169.51572313 -3463.77121919 -3085.49169276\n",
            "   6288.99714985 -1993.7952757   3349.36161961]]  + [17538.07307995]\n"
          ]
        }
      ]
    },
    {
      "cell_type": "markdown",
      "source": [
        "### **CONCLUSION:-**\n",
        "\n",
        "1.   From Model-1, Model-2, Model-3 the model score have no effect. \n",
        "2.   Moreover all 3-models have similar **R2_score = 0.446** which is \"*not_good fit*\"\n"
      ],
      "metadata": {
        "id": "pfA9vj6GeuCl"
      }
    },
    {
      "cell_type": "markdown",
      "source": [
        "### 3.Find the combination of the factors that is the best predictor for price."
      ],
      "metadata": {
        "id": "KWL2JGpdgnRE"
      }
    },
    {
      "cell_type": "code",
      "source": [
        "import itertools as it\n",
        "def input_combos(cols):\n",
        "    return [it.combinations(cols, n+1) for n in range(len(cols))]\n",
        "\n",
        "# To know combinations of input columns"
      ],
      "metadata": {
        "id": "UPGmjy7lO7G1"
      },
      "execution_count": 27,
      "outputs": []
    },
    {
      "cell_type": "code",
      "source": [
        "combos = input_combos(input_cols)"
      ],
      "metadata": {
        "id": "KIEHH_ZaO7D5"
      },
      "execution_count": 28,
      "outputs": []
    },
    {
      "cell_type": "code",
      "source": [
        "def combo_r2scores( all_combos, df, output='Price'):\n",
        "    combo_scores = {}\n",
        "    for i in range(len(list(all_combos))):\n",
        "        for j in list(all_combos[i]):\n",
        "            X = df[list(j)]\n",
        "            Y = df['Price']\n",
        "            model = LinearRegression().fit(X,Y)\n",
        "            combo_scores[model.score(X,Y)] = j\n",
        "    return combo_scores"
      ],
      "metadata": {
        "id": "r5ChtdtJg9Ck"
      },
      "execution_count": 29,
      "outputs": []
    },
    {
      "cell_type": "code",
      "source": [
        "combo_r2scores(combos,df,'Price')"
      ],
      "metadata": {
        "id": "vmczZX_bg8-y",
        "outputId": "652b7682-3307-4462-92f3-1adb02b987c7",
        "colab": {
          "base_uri": "https://localhost:8080/"
        }
      },
      "execution_count": 30,
      "outputs": [
        {
          "output_type": "execute_result",
          "data": {
            "text/plain": [
              "{0.02046344732348926: ('Mileage',),\n",
              " 0.32385903759512247: ('Cylinder',),\n",
              " 0.31152674427904503: ('Liter',),\n",
              " 0.019251466591467037: ('Doors',),\n",
              " 0.1856330092969276: ('Cruise',),\n",
              " 0.015462387624189389: ('Sound',),\n",
              " 0.024710851264124534: ('Leather',),\n",
              " 0.33982070826367505: ('Mileage', 'Cylinder'),\n",
              " 0.3291279066854156: ('Mileage', 'Liter'),\n",
              " 0.04039914867118721: ('Mileage', 'Doors'),\n",
              " 0.2093138558315858: ('Mileage', 'Cruise'),\n",
              " 0.03688121596735017: ('Mileage', 'Sound'),\n",
              " 0.04521956340886857: ('Mileage', 'Leather'),\n",
              " 0.32591551601566593: ('Cylinder', 'Liter'),\n",
              " 0.343460536583038: ('Cylinder', 'Doors'),\n",
              " 0.3839491324027344: ('Cylinder', 'Cruise'),\n",
              " 0.32927527347959384: ('Cylinder', 'Sound'),\n",
              " 0.33698000644980597: ('Cylinder', 'Leather'),\n",
              " 0.32051564077668315: ('Liter', 'Doors'),\n",
              " 0.3680458490296844: ('Liter', 'Cruise'),\n",
              " 0.31926427639502897: ('Liter', 'Sound'),\n",
              " 0.32337917189904186: ('Liter', 'Leather'),\n",
              " 0.1996382468921617: ('Doors', 'Cruise'),\n",
              " 0.03701628770903431: ('Doors', 'Sound'),\n",
              " 0.04141817346866039: ('Doors', 'Leather'),\n",
              " 0.19288948066869627: ('Cruise', 'Sound'),\n",
              " 0.2210042052179847: ('Cruise', 'Leather'),\n",
              " 0.04795369092082724: ('Sound', 'Leather'),\n",
              " 0.34228021178720824: ('Mileage', 'Cylinder', 'Liter'),\n",
              " 0.3600299189649303: ('Mileage', 'Cylinder', 'Doors'),\n",
              " 0.4023745860316019: ('Mileage', 'Cylinder', 'Cruise'),\n",
              " 0.34579303945195394: ('Mileage', 'Cylinder', 'Sound'),\n",
              " 0.35303578931823965: ('Mileage', 'Cylinder', 'Leather'),\n",
              " 0.33859102766485816: ('Mileage', 'Liter', 'Doors'),\n",
              " 0.38792398390551597: ('Mileage', 'Liter', 'Cruise'),\n",
              " 0.3375252452641955: ('Mileage', 'Liter', 'Sound'),\n",
              " 0.34105691618639955: ('Mileage', 'Liter', 'Leather'),\n",
              " 0.2239031407636466: ('Mileage', 'Doors', 'Cruise'),\n",
              " 0.05925054392042661: ('Mileage', 'Doors', 'Sound'),\n",
              " 0.06256392121987708: ('Mileage', 'Doors', 'Leather'),\n",
              " 0.21721656906779263: ('Mileage', 'Cruise', 'Sound'),\n",
              " 0.24484643441472986: ('Mileage', 'Cruise', 'Leather'),\n",
              " 0.06965940622436506: ('Mileage', 'Sound', 'Leather'),\n",
              " 0.3434954780689595: ('Cylinder', 'Liter', 'Doors'),\n",
              " 0.3840622008524506: ('Cylinder', 'Liter', 'Cruise'),\n",
              " 0.3318486045315714: ('Cylinder', 'Liter', 'Sound'),\n",
              " 0.33853269361625415: ('Cylinder', 'Liter', 'Leather'),\n",
              " 0.4001989079545568: ('Cylinder', 'Doors', 'Cruise'),\n",
              " 0.3502699330133767: ('Cylinder', 'Doors', 'Sound'),\n",
              " 0.3547026130008998: ('Cylinder', 'Doors', 'Leather'),\n",
              " 0.3873058022296456: ('Cylinder', 'Cruise', 'Sound'),\n",
              " 0.40380272693971553: ('Cylinder', 'Cruise', 'Leather'),\n",
              " 0.3459853327541679: ('Cylinder', 'Sound', 'Leather'),\n",
              " 0.3761916805347969: ('Liter', 'Doors', 'Cruise'),\n",
              " 0.32947196699054004: ('Liter', 'Doors', 'Sound'),\n",
              " 0.3312844538529036: ('Liter', 'Doors', 'Leather'),\n",
              " 0.3730745596141458: ('Liter', 'Cruise', 'Sound'),\n",
              " 0.38665505937731115: ('Liter', 'Cruise', 'Leather'),\n",
              " 0.33511407076463473: ('Liter', 'Sound', 'Leather'),\n",
              " 0.2083536888853531: ('Doors', 'Cruise', 'Sound'),\n",
              " 0.23229120295179528: ('Doors', 'Cruise', 'Leather'),\n",
              " 0.06687313316188848: ('Doors', 'Sound', 'Leather'),\n",
              " 0.23464406340531807: ('Cruise', 'Sound', 'Leather'),\n",
              " 0.3601250633027092: ('Mileage', 'Cylinder', 'Liter', 'Doors'),\n",
              " 0.4025842618924307: ('Mileage', 'Cylinder', 'Liter', 'Cruise'),\n",
              " 0.34885465224422074: ('Mileage', 'Cylinder', 'Liter', 'Sound'),\n",
              " 0.354940443055751: ('Mileage', 'Cylinder', 'Liter', 'Leather'),\n",
              " 0.41914964510731756: ('Mileage', 'Cylinder', 'Doors', 'Cruise'),\n",
              " 0.3674991296973681: ('Mileage', 'Cylinder', 'Doors', 'Sound'),\n",
              " 0.37133199838451947: ('Mileage', 'Cylinder', 'Doors', 'Leather'),\n",
              " 0.4061644982625815: ('Mileage', 'Cylinder', 'Cruise', 'Sound'),\n",
              " 0.4225074214774762: ('Mileage', 'Cylinder', 'Cruise', 'Leather'),\n",
              " 0.3627841037859246: ('Mileage', 'Cylinder', 'Sound', 'Leather'),\n",
              " 0.39653266980131807: ('Mileage', 'Liter', 'Doors', 'Cruise'),\n",
              " 0.34830222786670784: ('Mileage', 'Liter', 'Doors', 'Sound'),\n",
              " 0.34940517971815865: ('Mileage', 'Liter', 'Doors', 'Leather'),\n",
              " 0.39346849142215845: ('Mileage', 'Liter', 'Cruise', 'Sound'),\n",
              " 0.40678789687026895: ('Mileage', 'Liter', 'Cruise', 'Leather'),\n",
              " 0.35363153818528137: ('Mileage', 'Liter', 'Sound', 'Leather'),\n",
              " 0.23336920288580454: ('Mileage', 'Doors', 'Cruise', 'Sound'),\n",
              " 0.2566547812611919: ('Mileage', 'Doors', 'Cruise', 'Leather'),\n",
              " 0.08933709379370725: ('Mileage', 'Doors', 'Sound', 'Leather'),\n",
              " 0.2594013856567562: ('Mileage', 'Cruise', 'Sound', 'Leather'),\n",
              " 0.4008748693270304: ('Cylinder', 'Liter', 'Doors', 'Cruise'),\n",
              " 0.35038121816111256: ('Cylinder', 'Liter', 'Doors', 'Sound'),\n",
              " 0.3547068894092531: ('Cylinder', 'Liter', 'Doors', 'Leather'),\n",
              " 0.38754312167360194: ('Cylinder', 'Liter', 'Cruise', 'Sound'),\n",
              " 0.40380376425767606: ('Cylinder', 'Liter', 'Cruise', 'Leather'),\n",
              " 0.34805583937456297: ('Cylinder', 'Liter', 'Sound', 'Leather'),\n",
              " 0.40462307098659855: ('Cylinder', 'Doors', 'Cruise', 'Sound'),\n",
              " 0.4177602737019719: ('Cylinder', 'Doors', 'Cruise', 'Leather'),\n",
              " 0.36511700356207033: ('Cylinder', 'Doors', 'Sound', 'Leather'),\n",
              " 0.41065494158588833: ('Cylinder', 'Cruise', 'Sound', 'Leather'),\n",
              " 0.38218087776588217: ('Liter', 'Doors', 'Cruise', 'Sound'),\n",
              " 0.39345887351036213: ('Liter', 'Doors', 'Cruise', 'Leather'),\n",
              " 0.3442397580756411: ('Liter', 'Doors', 'Sound', 'Leather'),\n",
              " 0.39564260736568424: ('Liter', 'Cruise', 'Sound', 'Leather'),\n",
              " 0.2474491349580754: ('Doors', 'Cruise', 'Sound', 'Leather'),\n",
              " 0.4196580477703242: ('Mileage', 'Cylinder', 'Liter', 'Doors', 'Cruise'),\n",
              " 0.36771522262682854: ('Mileage', 'Cylinder', 'Liter', 'Doors', 'Sound'),\n",
              " 0.37136690890240676: ('Mileage', 'Cylinder', 'Liter', 'Doors', 'Leather'),\n",
              " 0.40654915865835195: ('Mileage', 'Cylinder', 'Liter', 'Cruise', 'Sound'),\n",
              " 0.4225307670398465: ('Mileage', 'Cylinder', 'Liter', 'Cruise', 'Leather'),\n",
              " 0.365294232839972: ('Mileage', 'Cylinder', 'Liter', 'Sound', 'Leather'),\n",
              " 0.42409748258510405: ('Mileage', 'Cylinder', 'Doors', 'Cruise', 'Sound'),\n",
              " 0.4369402151237246: ('Mileage', 'Cylinder', 'Doors', 'Cruise', 'Leather'),\n",
              " 0.38258521179336924: ('Mileage', 'Cylinder', 'Doors', 'Sound', 'Leather'),\n",
              " 0.43001820483252684: ('Mileage', 'Cylinder', 'Cruise', 'Sound', 'Leather'),\n",
              " 0.4031213170211536: ('Mileage', 'Liter', 'Doors', 'Cruise', 'Sound'),\n",
              " 0.414009223163035: ('Mileage', 'Liter', 'Doors', 'Cruise', 'Leather'),\n",
              " 0.36329101174690714: ('Mileage', 'Liter', 'Doors', 'Sound', 'Leather'),\n",
              " 0.41650804904235117: ('Mileage', 'Liter', 'Cruise', 'Sound', 'Leather'),\n",
              " 0.272825947675678: ('Mileage', 'Doors', 'Cruise', 'Sound', 'Leather'),\n",
              " 0.4050927515057854: ('Cylinder', 'Liter', 'Doors', 'Cruise', 'Sound'),\n",
              " 0.4188394218057132: ('Cylinder', 'Liter', 'Doors', 'Cruise', 'Leather'),\n",
              " 0.36516944395094464: ('Cylinder', 'Liter', 'Doors', 'Sound', 'Leather'),\n",
              " 0.4107029526441045: ('Cylinder', 'Liter', 'Cruise', 'Sound', 'Leather'),\n",
              " 0.4257681327974421: ('Cylinder', 'Doors', 'Cruise', 'Sound', 'Leather'),\n",
              " 0.40346337208358063: ('Liter', 'Doors', 'Cruise', 'Sound', 'Leather'),\n",
              " 0.4244182401799875: ('Mileage',\n",
              "  'Cylinder',\n",
              "  'Liter',\n",
              "  'Doors',\n",
              "  'Cruise',\n",
              "  'Sound'),\n",
              " 0.437805741536638: ('Mileage',\n",
              "  'Cylinder',\n",
              "  'Liter',\n",
              "  'Doors',\n",
              "  'Cruise',\n",
              "  'Leather'),\n",
              " 0.382715045002158: ('Mileage',\n",
              "  'Cylinder',\n",
              "  'Liter',\n",
              "  'Doors',\n",
              "  'Sound',\n",
              "  'Leather'),\n",
              " 0.43014148406475594: ('Mileage',\n",
              "  'Cylinder',\n",
              "  'Liter',\n",
              "  'Cruise',\n",
              "  'Sound',\n",
              "  'Leather'),\n",
              " 0.44569092105870245: ('Mileage',\n",
              "  'Cylinder',\n",
              "  'Doors',\n",
              "  'Cruise',\n",
              "  'Sound',\n",
              "  'Leather'),\n",
              " 0.42482840454267856: ('Mileage',\n",
              "  'Liter',\n",
              "  'Doors',\n",
              "  'Cruise',\n",
              "  'Sound',\n",
              "  'Leather'),\n",
              " 0.4265348637809264: ('Cylinder',\n",
              "  'Liter',\n",
              "  'Doors',\n",
              "  'Cruise',\n",
              "  'Sound',\n",
              "  'Leather'),\n",
              " 0.446264353672838: ('Mileage',\n",
              "  'Cylinder',\n",
              "  'Liter',\n",
              "  'Doors',\n",
              "  'Cruise',\n",
              "  'Sound',\n",
              "  'Leather')}"
            ]
          },
          "metadata": {},
          "execution_count": 30
        }
      ]
    },
    {
      "cell_type": "markdown",
      "source": [
        "### **CONCLUSION:**\n",
        "Combination of all 7 input fields produce the highest **R2_score = 0.446**"
      ],
      "metadata": {
        "id": "FB5R6CFbhWrX"
      }
    },
    {
      "cell_type": "markdown",
      "source": [
        "# -----------------------------------------------***TASK -  HARD mode***--------------------------------------------------"
      ],
      "metadata": {
        "id": "WmZfw_ewhpyF"
      }
    },
    {
      "cell_type": "markdown",
      "source": [
        "\n",
        "\n",
        "1.   Research dummy variables in scikit-learn to see how to use the make, model, and body type.\n",
        "\n",
        "2.   Find the best combination of factors to predict price.\n",
        "\n"
      ],
      "metadata": {
        "id": "8X7RPiBEi47W"
      }
    },
    {
      "cell_type": "code",
      "source": [
        "df1 = df.copy()"
      ],
      "metadata": {
        "id": "PKH-s-aBg879"
      },
      "execution_count": 31,
      "outputs": []
    },
    {
      "cell_type": "code",
      "source": [
        "df1[['Make','Model','Type']] = df1[['Make','Model','Type']].astype('category')\n",
        "df1.dtypes"
      ],
      "metadata": {
        "id": "zjYL2wlFg85K",
        "outputId": "89b1698d-4bcf-4532-8241-877142a1461c",
        "colab": {
          "base_uri": "https://localhost:8080/"
        }
      },
      "execution_count": 32,
      "outputs": [
        {
          "output_type": "execute_result",
          "data": {
            "text/plain": [
              "Price        float64\n",
              "Mileage        int64\n",
              "Make        category\n",
              "Model       category\n",
              "Trim          object\n",
              "Type        category\n",
              "Cylinder       int64\n",
              "Liter        float64\n",
              "Doors          int64\n",
              "Cruise         int64\n",
              "Sound          int64\n",
              "Leather        int64\n",
              "dtype: object"
            ]
          },
          "metadata": {},
          "execution_count": 32
        }
      ]
    },
    {
      "cell_type": "code",
      "source": [
        "df1['Make'] = df1['Make'].cat.codes\n",
        "df1['Model'] = df1['Model'].cat.codes\n",
        "df1['Type'] = df1['Type'].cat.codes\n",
        "df1"
      ],
      "metadata": {
        "id": "jnLF74N9ihfs",
        "outputId": "b55d0239-873c-416b-dec2-d7384bfd095a",
        "colab": {
          "base_uri": "https://localhost:8080/",
          "height": 423
        }
      },
      "execution_count": 33,
      "outputs": [
        {
          "output_type": "execute_result",
          "data": {
            "text/plain": [
              "            Price  Mileage  Make  Model           Trim  Type  Cylinder  Liter  \\\n",
              "0    17314.103129     8221     0     10       Sedan 4D     3         6    3.1   \n",
              "1    17542.036083     9135     0     10       Sedan 4D     3         6    3.1   \n",
              "2    16218.847862    13196     0     10       Sedan 4D     3         6    3.1   \n",
              "3    16336.913140    16342     0     10       Sedan 4D     3         6    3.1   \n",
              "4    16339.170324    19832     0     10       Sedan 4D     3         6    3.1   \n",
              "..            ...      ...   ...    ...            ...   ...       ...    ...   \n",
              "799  16507.070267    16229     5     21  L300 Sedan 4D     3         6    3.0   \n",
              "800  16175.957604    19095     5     21  L300 Sedan 4D     3         6    3.0   \n",
              "801  15731.132897    20484     5     21  L300 Sedan 4D     3         6    3.0   \n",
              "802  15118.893228    25979     5     21  L300 Sedan 4D     3         6    3.0   \n",
              "803  13585.636802    35662     5     21  L300 Sedan 4D     3         6    3.0   \n",
              "\n",
              "     Doors  Cruise  Sound  Leather  \n",
              "0        4       1      1        1  \n",
              "1        4       1      1        0  \n",
              "2        4       1      1        0  \n",
              "3        4       1      0        0  \n",
              "4        4       1      0        1  \n",
              "..     ...     ...    ...      ...  \n",
              "799      4       1      0        0  \n",
              "800      4       1      1        0  \n",
              "801      4       1      1        0  \n",
              "802      4       1      1        0  \n",
              "803      4       1      0        0  \n",
              "\n",
              "[804 rows x 12 columns]"
            ],
            "text/html": [
              "\n",
              "  <div id=\"df-8e69e4f7-a147-4a5f-bb87-4084195b460f\">\n",
              "    <div class=\"colab-df-container\">\n",
              "      <div>\n",
              "<style scoped>\n",
              "    .dataframe tbody tr th:only-of-type {\n",
              "        vertical-align: middle;\n",
              "    }\n",
              "\n",
              "    .dataframe tbody tr th {\n",
              "        vertical-align: top;\n",
              "    }\n",
              "\n",
              "    .dataframe thead th {\n",
              "        text-align: right;\n",
              "    }\n",
              "</style>\n",
              "<table border=\"1\" class=\"dataframe\">\n",
              "  <thead>\n",
              "    <tr style=\"text-align: right;\">\n",
              "      <th></th>\n",
              "      <th>Price</th>\n",
              "      <th>Mileage</th>\n",
              "      <th>Make</th>\n",
              "      <th>Model</th>\n",
              "      <th>Trim</th>\n",
              "      <th>Type</th>\n",
              "      <th>Cylinder</th>\n",
              "      <th>Liter</th>\n",
              "      <th>Doors</th>\n",
              "      <th>Cruise</th>\n",
              "      <th>Sound</th>\n",
              "      <th>Leather</th>\n",
              "    </tr>\n",
              "  </thead>\n",
              "  <tbody>\n",
              "    <tr>\n",
              "      <th>0</th>\n",
              "      <td>17314.103129</td>\n",
              "      <td>8221</td>\n",
              "      <td>0</td>\n",
              "      <td>10</td>\n",
              "      <td>Sedan 4D</td>\n",
              "      <td>3</td>\n",
              "      <td>6</td>\n",
              "      <td>3.1</td>\n",
              "      <td>4</td>\n",
              "      <td>1</td>\n",
              "      <td>1</td>\n",
              "      <td>1</td>\n",
              "    </tr>\n",
              "    <tr>\n",
              "      <th>1</th>\n",
              "      <td>17542.036083</td>\n",
              "      <td>9135</td>\n",
              "      <td>0</td>\n",
              "      <td>10</td>\n",
              "      <td>Sedan 4D</td>\n",
              "      <td>3</td>\n",
              "      <td>6</td>\n",
              "      <td>3.1</td>\n",
              "      <td>4</td>\n",
              "      <td>1</td>\n",
              "      <td>1</td>\n",
              "      <td>0</td>\n",
              "    </tr>\n",
              "    <tr>\n",
              "      <th>2</th>\n",
              "      <td>16218.847862</td>\n",
              "      <td>13196</td>\n",
              "      <td>0</td>\n",
              "      <td>10</td>\n",
              "      <td>Sedan 4D</td>\n",
              "      <td>3</td>\n",
              "      <td>6</td>\n",
              "      <td>3.1</td>\n",
              "      <td>4</td>\n",
              "      <td>1</td>\n",
              "      <td>1</td>\n",
              "      <td>0</td>\n",
              "    </tr>\n",
              "    <tr>\n",
              "      <th>3</th>\n",
              "      <td>16336.913140</td>\n",
              "      <td>16342</td>\n",
              "      <td>0</td>\n",
              "      <td>10</td>\n",
              "      <td>Sedan 4D</td>\n",
              "      <td>3</td>\n",
              "      <td>6</td>\n",
              "      <td>3.1</td>\n",
              "      <td>4</td>\n",
              "      <td>1</td>\n",
              "      <td>0</td>\n",
              "      <td>0</td>\n",
              "    </tr>\n",
              "    <tr>\n",
              "      <th>4</th>\n",
              "      <td>16339.170324</td>\n",
              "      <td>19832</td>\n",
              "      <td>0</td>\n",
              "      <td>10</td>\n",
              "      <td>Sedan 4D</td>\n",
              "      <td>3</td>\n",
              "      <td>6</td>\n",
              "      <td>3.1</td>\n",
              "      <td>4</td>\n",
              "      <td>1</td>\n",
              "      <td>0</td>\n",
              "      <td>1</td>\n",
              "    </tr>\n",
              "    <tr>\n",
              "      <th>...</th>\n",
              "      <td>...</td>\n",
              "      <td>...</td>\n",
              "      <td>...</td>\n",
              "      <td>...</td>\n",
              "      <td>...</td>\n",
              "      <td>...</td>\n",
              "      <td>...</td>\n",
              "      <td>...</td>\n",
              "      <td>...</td>\n",
              "      <td>...</td>\n",
              "      <td>...</td>\n",
              "      <td>...</td>\n",
              "    </tr>\n",
              "    <tr>\n",
              "      <th>799</th>\n",
              "      <td>16507.070267</td>\n",
              "      <td>16229</td>\n",
              "      <td>5</td>\n",
              "      <td>21</td>\n",
              "      <td>L300 Sedan 4D</td>\n",
              "      <td>3</td>\n",
              "      <td>6</td>\n",
              "      <td>3.0</td>\n",
              "      <td>4</td>\n",
              "      <td>1</td>\n",
              "      <td>0</td>\n",
              "      <td>0</td>\n",
              "    </tr>\n",
              "    <tr>\n",
              "      <th>800</th>\n",
              "      <td>16175.957604</td>\n",
              "      <td>19095</td>\n",
              "      <td>5</td>\n",
              "      <td>21</td>\n",
              "      <td>L300 Sedan 4D</td>\n",
              "      <td>3</td>\n",
              "      <td>6</td>\n",
              "      <td>3.0</td>\n",
              "      <td>4</td>\n",
              "      <td>1</td>\n",
              "      <td>1</td>\n",
              "      <td>0</td>\n",
              "    </tr>\n",
              "    <tr>\n",
              "      <th>801</th>\n",
              "      <td>15731.132897</td>\n",
              "      <td>20484</td>\n",
              "      <td>5</td>\n",
              "      <td>21</td>\n",
              "      <td>L300 Sedan 4D</td>\n",
              "      <td>3</td>\n",
              "      <td>6</td>\n",
              "      <td>3.0</td>\n",
              "      <td>4</td>\n",
              "      <td>1</td>\n",
              "      <td>1</td>\n",
              "      <td>0</td>\n",
              "    </tr>\n",
              "    <tr>\n",
              "      <th>802</th>\n",
              "      <td>15118.893228</td>\n",
              "      <td>25979</td>\n",
              "      <td>5</td>\n",
              "      <td>21</td>\n",
              "      <td>L300 Sedan 4D</td>\n",
              "      <td>3</td>\n",
              "      <td>6</td>\n",
              "      <td>3.0</td>\n",
              "      <td>4</td>\n",
              "      <td>1</td>\n",
              "      <td>1</td>\n",
              "      <td>0</td>\n",
              "    </tr>\n",
              "    <tr>\n",
              "      <th>803</th>\n",
              "      <td>13585.636802</td>\n",
              "      <td>35662</td>\n",
              "      <td>5</td>\n",
              "      <td>21</td>\n",
              "      <td>L300 Sedan 4D</td>\n",
              "      <td>3</td>\n",
              "      <td>6</td>\n",
              "      <td>3.0</td>\n",
              "      <td>4</td>\n",
              "      <td>1</td>\n",
              "      <td>0</td>\n",
              "      <td>0</td>\n",
              "    </tr>\n",
              "  </tbody>\n",
              "</table>\n",
              "<p>804 rows × 12 columns</p>\n",
              "</div>\n",
              "      <button class=\"colab-df-convert\" onclick=\"convertToInteractive('df-8e69e4f7-a147-4a5f-bb87-4084195b460f')\"\n",
              "              title=\"Convert this dataframe to an interactive table.\"\n",
              "              style=\"display:none;\">\n",
              "        \n",
              "  <svg xmlns=\"http://www.w3.org/2000/svg\" height=\"24px\"viewBox=\"0 0 24 24\"\n",
              "       width=\"24px\">\n",
              "    <path d=\"M0 0h24v24H0V0z\" fill=\"none\"/>\n",
              "    <path d=\"M18.56 5.44l.94 2.06.94-2.06 2.06-.94-2.06-.94-.94-2.06-.94 2.06-2.06.94zm-11 1L8.5 8.5l.94-2.06 2.06-.94-2.06-.94L8.5 2.5l-.94 2.06-2.06.94zm10 10l.94 2.06.94-2.06 2.06-.94-2.06-.94-.94-2.06-.94 2.06-2.06.94z\"/><path d=\"M17.41 7.96l-1.37-1.37c-.4-.4-.92-.59-1.43-.59-.52 0-1.04.2-1.43.59L10.3 9.45l-7.72 7.72c-.78.78-.78 2.05 0 2.83L4 21.41c.39.39.9.59 1.41.59.51 0 1.02-.2 1.41-.59l7.78-7.78 2.81-2.81c.8-.78.8-2.07 0-2.86zM5.41 20L4 18.59l7.72-7.72 1.47 1.35L5.41 20z\"/>\n",
              "  </svg>\n",
              "      </button>\n",
              "      \n",
              "  <style>\n",
              "    .colab-df-container {\n",
              "      display:flex;\n",
              "      flex-wrap:wrap;\n",
              "      gap: 12px;\n",
              "    }\n",
              "\n",
              "    .colab-df-convert {\n",
              "      background-color: #E8F0FE;\n",
              "      border: none;\n",
              "      border-radius: 50%;\n",
              "      cursor: pointer;\n",
              "      display: none;\n",
              "      fill: #1967D2;\n",
              "      height: 32px;\n",
              "      padding: 0 0 0 0;\n",
              "      width: 32px;\n",
              "    }\n",
              "\n",
              "    .colab-df-convert:hover {\n",
              "      background-color: #E2EBFA;\n",
              "      box-shadow: 0px 1px 2px rgba(60, 64, 67, 0.3), 0px 1px 3px 1px rgba(60, 64, 67, 0.15);\n",
              "      fill: #174EA6;\n",
              "    }\n",
              "\n",
              "    [theme=dark] .colab-df-convert {\n",
              "      background-color: #3B4455;\n",
              "      fill: #D2E3FC;\n",
              "    }\n",
              "\n",
              "    [theme=dark] .colab-df-convert:hover {\n",
              "      background-color: #434B5C;\n",
              "      box-shadow: 0px 1px 3px 1px rgba(0, 0, 0, 0.15);\n",
              "      filter: drop-shadow(0px 1px 2px rgba(0, 0, 0, 0.3));\n",
              "      fill: #FFFFFF;\n",
              "    }\n",
              "  </style>\n",
              "\n",
              "      <script>\n",
              "        const buttonEl =\n",
              "          document.querySelector('#df-8e69e4f7-a147-4a5f-bb87-4084195b460f button.colab-df-convert');\n",
              "        buttonEl.style.display =\n",
              "          google.colab.kernel.accessAllowed ? 'block' : 'none';\n",
              "\n",
              "        async function convertToInteractive(key) {\n",
              "          const element = document.querySelector('#df-8e69e4f7-a147-4a5f-bb87-4084195b460f');\n",
              "          const dataTable =\n",
              "            await google.colab.kernel.invokeFunction('convertToInteractive',\n",
              "                                                     [key], {});\n",
              "          if (!dataTable) return;\n",
              "\n",
              "          const docLinkHtml = 'Like what you see? Visit the ' +\n",
              "            '<a target=\"_blank\" href=https://colab.research.google.com/notebooks/data_table.ipynb>data table notebook</a>'\n",
              "            + ' to learn more about interactive tables.';\n",
              "          element.innerHTML = '';\n",
              "          dataTable['output_type'] = 'display_data';\n",
              "          await google.colab.output.renderOutput(dataTable, element);\n",
              "          const docLink = document.createElement('div');\n",
              "          docLink.innerHTML = docLinkHtml;\n",
              "          element.appendChild(docLink);\n",
              "        }\n",
              "      </script>\n",
              "    </div>\n",
              "  </div>\n",
              "  "
            ]
          },
          "metadata": {},
          "execution_count": 33
        }
      ]
    },
    {
      "cell_type": "code",
      "source": [
        "input_cols = ['Mileage','Cylinder','Make','Model','Type','Liter','Doors','Cruise','Sound','Leather']\n",
        "\n",
        "X = df1[input_cols]\n",
        "Y = df1['Price'].values.reshape(-1,1)\n",
        "model1 = LinearRegression()\n",
        "model1.fit(X,Y)\n",
        "\n",
        "print(\"Intercept:{} ,Coefficients:{}\".format(model1.intercept_, model1.coef_))\n",
        "model1.score(X,Y)"
      ],
      "metadata": {
        "id": "tbV0ibAgilgV",
        "outputId": "d4e4e04d-54e4-485c-97ca-cebce80ea469",
        "colab": {
          "base_uri": "https://localhost:8080/"
        }
      },
      "execution_count": 34,
      "outputs": [
        {
          "output_type": "stream",
          "name": "stdout",
          "text": [
            "Intercept:[3039.64350271] ,Coefficients:[[-1.71673657e-01  4.87578755e+03  8.32075788e+02 -2.05034394e+02\n",
            "   4.31124572e+01 -8.92252597e+02 -1.50175555e+03  5.14099964e+03\n",
            "  -1.33287926e+03  2.77089529e+03]]\n"
          ]
        },
        {
          "output_type": "execute_result",
          "data": {
            "text/plain": [
              "0.48569139005488504"
            ]
          },
          "metadata": {},
          "execution_count": 34
        }
      ]
    },
    {
      "cell_type": "code",
      "source": [
        "combos = input_combos(input_cols)"
      ],
      "metadata": {
        "id": "g66FyOAnilSs"
      },
      "execution_count": 35,
      "outputs": []
    },
    {
      "cell_type": "code",
      "source": [
        "def combo_r2scores( all_combos, df, output='Price'):\n",
        "    combo_scores = {}\n",
        "    for i in range(len(list(all_combos))):\n",
        "        for j in list(all_combos[i]):\n",
        "            X = df[list(j)]\n",
        "            Y = df['Price']\n",
        "            model = LinearRegression().fit(X,Y)\n",
        "            combo_scores[model.score(X,Y)] = j\n",
        "    return combo_scores"
      ],
      "metadata": {
        "id": "bi81DAF8ilPM"
      },
      "execution_count": 36,
      "outputs": []
    },
    {
      "cell_type": "code",
      "source": [
        "output_dict = combo_r2scores(combos,df1,'Price')"
      ],
      "metadata": {
        "id": "apjKW7dSilMb"
      },
      "execution_count": 37,
      "outputs": []
    },
    {
      "cell_type": "code",
      "source": [
        "max(output_dict)"
      ],
      "metadata": {
        "id": "ry2ul4qailJj",
        "outputId": "c39d939c-4f48-4144-80c6-68ab36dcb9d5",
        "colab": {
          "base_uri": "https://localhost:8080/"
        }
      },
      "execution_count": 38,
      "outputs": [
        {
          "output_type": "execute_result",
          "data": {
            "text/plain": [
              "0.48569139005488504"
            ]
          },
          "metadata": {},
          "execution_count": 38
        }
      ]
    },
    {
      "cell_type": "code",
      "source": [
        "output_dict[0.48569139005488504] \n",
        "\n",
        "# Provides Max - R2score"
      ],
      "metadata": {
        "id": "l-lc_disjhUv",
        "outputId": "d140ab20-3eb1-446c-9346-d36e9107fad2",
        "colab": {
          "base_uri": "https://localhost:8080/"
        }
      },
      "execution_count": 41,
      "outputs": [
        {
          "output_type": "execute_result",
          "data": {
            "text/plain": [
              "('Mileage',\n",
              " 'Cylinder',\n",
              " 'Make',\n",
              " 'Model',\n",
              " 'Type',\n",
              " 'Liter',\n",
              " 'Doors',\n",
              " 'Cruise',\n",
              " 'Sound',\n",
              " 'Leather')"
            ]
          },
          "metadata": {},
          "execution_count": 41
        }
      ]
    },
    {
      "cell_type": "markdown",
      "source": [
        "\n",
        "*  No improvements while using encoding of make,model & type\n",
        "*  Its an very slight improvement from *0.44 to 0.48*\n",
        "\n"
      ],
      "metadata": {
        "id": "DZDG5X5PjsuH"
      }
    },
    {
      "cell_type": "code",
      "source": [
        "sns.heatmap(df.corr(), annot=True)\n",
        "\n",
        "#Cylinder & liter are high positive correletated"
      ],
      "metadata": {
        "id": "aOOY7PBtjhRi",
        "outputId": "ebf2f341-4134-40f3-87ef-842917f099cb",
        "colab": {
          "base_uri": "https://localhost:8080/",
          "height": 318
        }
      },
      "execution_count": 42,
      "outputs": [
        {
          "output_type": "execute_result",
          "data": {
            "text/plain": [
              "<AxesSubplot:>"
            ]
          },
          "metadata": {},
          "execution_count": 42
        },
        {
          "output_type": "display_data",
          "data": {
            "text/plain": [
              "<Figure size 432x288 with 2 Axes>"
            ],
            "image/png": "[encoded data removed]"
          },
          "metadata": {
            "needs_background": "light"
          }
        }
      ]
    },
    {
      "cell_type": "markdown",
      "source": [
        "\n",
        "### 1.   Using Label - Encoding\n"
      ],
      "metadata": {
        "id": "W5qTDPE4l-KB"
      }
    },
    {
      "cell_type": "code",
      "source": [
        "df1 = df.copy()"
      ],
      "metadata": {
        "id": "MGqOJpqTjhOz"
      },
      "execution_count": 43,
      "outputs": []
    },
    {
      "cell_type": "code",
      "source": [
        "df1['Model'] = df1['Model'].astype('category')\n",
        "df1['Model'] = df1['Model'].cat.codes"
      ],
      "metadata": {
        "id": "5EBNAb2vjhL_"
      },
      "execution_count": 44,
      "outputs": []
    },
    {
      "cell_type": "code",
      "source": [
        "df_dummies = pd.get_dummies(df1, columns = ['Make','Type'])"
      ],
      "metadata": {
        "id": "mXY0OCkHlW-H"
      },
      "execution_count": 45,
      "outputs": []
    },
    {
      "cell_type": "code",
      "source": [
        "input_cols=['Mileage', 'Cylinder','Liter','Model','Doors', 'Cruise',\n",
        "       'Sound', 'Leather', 'Make_Buick', 'Make_Cadillac', 'Make_Chevrolet',\n",
        "       'Make_Pontiac', 'Make_SAAB', 'Make_Saturn','Type_Convertible', 'Type_Coupe',\n",
        "       'Type_Hatchback', 'Type_Sedan', 'Type_Wagon']"
      ],
      "metadata": {
        "id": "06JAyZ6nlW6r"
      },
      "execution_count": 46,
      "outputs": []
    },
    {
      "cell_type": "code",
      "source": [
        "X = df_dummies[input_cols]"
      ],
      "metadata": {
        "id": "yBLbGHNrlW3_"
      },
      "execution_count": 47,
      "outputs": []
    },
    {
      "cell_type": "code",
      "source": [
        "Y = df['Price'].values.reshape(-1,1)\n",
        "model1 = LinearRegression()\n",
        "model1.fit(X,Y)\n",
        "print(\"Intercept:{} ,Coefficients:{}\".format(model1.intercept_, model1.coef_))\n",
        "model1.score(X,Y)"
      ],
      "metadata": {
        "id": "DbrWY8tdlW1j",
        "outputId": "caf6ce03-071b-4056-b2be-fd0680df4152",
        "colab": {
          "base_uri": "https://localhost:8080/"
        }
      },
      "execution_count": 48,
      "outputs": [
        {
          "output_type": "stream",
          "name": "stdout",
          "text": [
            "Intercept:[23377.98090878] ,Coefficients:[[-1.84575188e-01 -1.25812618e+03  5.68575195e+03  5.86830951e+01\n",
            "  -2.09123334e+03  1.81499295e+02  2.05060415e+02  2.89961148e+02\n",
            "  -3.96158031e+03  1.22141649e+04 -5.27969841e+03 -5.52735103e+03\n",
            "   7.75088755e+03 -5.19642271e+03  6.49494131e+03 -5.44932464e+03\n",
            "  -1.57653214e+03 -1.46170953e+03  1.99262500e+03]]\n"
          ]
        },
        {
          "output_type": "execute_result",
          "data": {
            "text/plain": [
              "0.9376502168807379"
            ]
          },
          "metadata": {},
          "execution_count": 48
        }
      ]
    },
    {
      "cell_type": "markdown",
      "source": [
        "\n",
        "\n",
        "*   Here using *label encoding* we get **R2_Score = 0.937** which is Good fit.\n",
        "\n",
        "\n"
      ],
      "metadata": {
        "id": "-A1ZM7emlg7s"
      }
    },
    {
      "cell_type": "markdown",
      "source": [
        "\n",
        "### 2.   Without Label - Encoding"
      ],
      "metadata": {
        "id": "i8eTdvF8mHtM"
      }
    },
    {
      "cell_type": "code",
      "source": [
        "df_dummies = pd.get_dummies(df1, columns = ['Make','Type'])"
      ],
      "metadata": {
        "id": "rLPKbxsZlWzE"
      },
      "execution_count": 49,
      "outputs": []
    },
    {
      "cell_type": "code",
      "source": [
        "input_cols=['Mileage', 'Cylinder','Liter','Doors', 'Cruise',\n",
        "       'Sound', 'Leather', 'Make_Buick', 'Make_Cadillac', 'Make_Chevrolet',\n",
        "       'Make_Pontiac', 'Make_SAAB', 'Make_Saturn','Type_Convertible', 'Type_Coupe',\n",
        "       'Type_Hatchback', 'Type_Sedan', 'Type_Wagon']"
      ],
      "metadata": {
        "id": "Bo7gTTLplWwg"
      },
      "execution_count": 50,
      "outputs": []
    },
    {
      "cell_type": "code",
      "source": [
        "X = df_dummies[input_cols]"
      ],
      "metadata": {
        "id": "bWbsjWJrlWtw"
      },
      "execution_count": 51,
      "outputs": []
    },
    {
      "cell_type": "code",
      "source": [
        "from sklearn.linear_model import LinearRegression\n",
        "from sklearn.metrics import r2_score\n",
        "\n",
        "Y = df['Price'].values.reshape(-1,1)\n",
        "model1 = LinearRegression()\n",
        "model1.fit(X,Y)\n",
        "\n",
        "print(\"Intercept:{} ,Coefficients:{}\".format(model1.intercept_, model1.coef_))\n",
        "model1.score(X,Y)"
      ],
      "metadata": {
        "id": "cx7RF6AZmaWB",
        "outputId": "ced56a49-84d4-493c-f05c-f60fb2c8b8bb",
        "colab": {
          "base_uri": "https://localhost:8080/"
        }
      },
      "execution_count": 52,
      "outputs": [
        {
          "output_type": "stream",
          "name": "stdout",
          "text": [
            "Intercept:[23983.77190962] ,Coefficients:[[-1.84862466e-01 -1.22610774e+03  5.76120797e+03 -2.06693208e+03\n",
            "   1.11145653e+02  2.95622523e+02  2.34258573e+02 -3.58669276e+03\n",
            "   1.22732515e+04 -5.33495094e+03 -5.47974129e+03  6.95098389e+03\n",
            "  -4.82285042e+03  6.52818455e+03 -5.49471851e+03 -1.71994175e+03\n",
            "  -1.69110942e+03  2.37758514e+03]]\n"
          ]
        },
        {
          "output_type": "execute_result",
          "data": {
            "text/plain": [
              "0.9363889951039477"
            ]
          },
          "metadata": {},
          "execution_count": 52
        }
      ]
    },
    {
      "cell_type": "markdown",
      "source": [
        "\n",
        "*   R2_score *differences of 0.001* if we using \"Model\" field.\n"
      ],
      "metadata": {
        "id": "76uf-Ul5mlI7"
      }
    },
    {
      "cell_type": "markdown",
      "source": [
        "## **CONCLUSION:-**\n",
        "### >The combination of 'Mileage', 'Cylinder','Liter','Doors', 'Cruise','Sound','Leather','Make' and 'Type' is *best combination of features* for the \"linear regression model\"."
      ],
      "metadata": {
        "id": "VHgdoHDhnLGb"
      }
    },
    {
      "cell_type": "markdown",
      "source": [],
      "metadata": {
        "id": "99L4OAHAnc29"
      }
    },
    {
      "cell_type": "markdown",
      "source": [],
      "metadata": {
        "id": "KjNVrmF1nmk6"
      }
    },
    {
      "cell_type": "markdown",
      "source": [],
      "metadata": {
        "id": "1yOLKQ5JnmhY"
      }
    }
  ],
  "metadata": {
    "kernelspec": {
      "display_name": "Python 3",
      "language": "python",
      "name": "python3"
    },
    "language_info": {
      "codemirror_mode": {
        "name": "ipython",
        "version": 3
      },
      "file_extension": ".py",
      "mimetype": "text/x-python",
      "name": "python",
      "nbconvert_exporter": "python",
      "pygments_lexer": "ipython3",
      "version": "3.8.3"
    },
    "colab": {
      "provenance": []
    }
  },
  "nbformat": 4,
  "nbformat_minor": 0
}